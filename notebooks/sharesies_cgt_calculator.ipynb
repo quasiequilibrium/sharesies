{
 "cells": [
  {
   "cell_type": "markdown",
   "metadata": {},
   "source": [
    "## Calculate GGT\n",
    "\n",
    "Take the csv(s) downloaded from the Sharesies app, each detailing transactions for a given year.\n",
    "\n",
    "Group trades by companies. Calculate the profit/loss on trades. Calculate the CGT, depending on how long the shares were held for."
   ]
  },
  {
   "cell_type": "code",
   "execution_count": null,
   "metadata": {},
   "outputs": [],
   "source": [
    "import pathlib\n",
    "import pandas\n",
    "import os\n",
    "\n",
    "# https://stackoverflow.com/questions/55491046/how-to-set-the-running-file-path-of-jupyter-in-vscode \n",
    "# set VS Code \"Notebook File Root\" to ${workspaceFolder}\n",
    "from shares.config import SHARESIES as config\n",
    "\n",
    "# enable dict.notation\n",
    "import dotsi\n",
    "config = dotsi.Dict(config)"
   ]
  },
  {
   "cell_type": "markdown",
   "metadata": {},
   "source": [
    "### User Configuration\n",
    "\n",
    "User-controllable configuration is stored in variables with CAPTIAL LETTERS."
   ]
  },
  {
   "cell_type": "code",
   "execution_count": null,
   "metadata": {},
   "outputs": [],
   "source": [
    "DATA_DIR = pathlib.Path(os.path.expanduser(\"~/data/\"))\n",
    "FILE = 'transaction-report.csv'\n",
    "\n",
    "AUD_SHARE_TOTAL = 'AUD Amount'\n",
    "AUD_FEE = 'AUD Transaction Fee'"
   ]
  },
  {
   "cell_type": "code",
   "execution_count": null,
   "metadata": {},
   "outputs": [],
   "source": [
    "df = pandas.read_csv(DATA_DIR.joinpath(FILE))\n",
    "# shows a sample of the data\n",
    "df.head(5)"
   ]
  },
  {
   "cell_type": "markdown",
   "metadata": {},
   "source": [
    "### Calculating code"
   ]
  },
  {
   "cell_type": "code",
   "execution_count": null,
   "metadata": {},
   "outputs": [],
   "source": [
    "def add_aud_translation(df):\n",
    "    \"\"\"\n",
    "    Add columms for AUD, for all base currency.\n",
    "\n",
    "    In the current export I have from sharesies, the SELL order in USD does not contain an exchange rate.\n",
    "    \"\"\"\n",
    "    df[AUD_SHARE_TOTAL] = 0.0\n",
    "    df[AUD_FEE] = 0.0\n",
    "    \n",
    "    for ridx, row in df.iterrows():\n",
    "\n",
    "        if row[config.CURRENCY] != 'aud':\n",
    "            if row[config.BUYSELL] == 'BUY':\n",
    "                # this works for buy rows, but the sell translation is not captured\n",
    "                df.loc[ridx, AUD_SHARE_TOTAL] = row[config.SHARE_PRICE_TOTAL] / row[config.EXCHANGE_RATE]\n",
    "                # assuming the fee is in the currency recorded\n",
    "                df.loc[ridx, AUD_FEE] = row[config.FEE] / row[config.EXCHANGE_RATE]\n",
    "            else:\n",
    "                # REQUIRES GETTING CURRENCY CONVERSION\n",
    "                df.loc[ridx, AUD_SHARE_TOTAL] = row[config.SHARE_PRICE_TOTAL] / row[config.EXCHANGE_RATE]\n",
    "                df.loc[ridx, AUD_FEE] = row[config.FEE] / row[config.EXCHANGE_RATE]\n",
    "        else:\n",
    "            df.loc[ridx, AUD_SHARE_TOTAL] = row[config.SHARE_PRICE_TOTAL]\n",
    "            df.loc[ridx, AUD_FEE] = row[config.FEE]"
   ]
  },
  {
   "cell_type": "code",
   "execution_count": null,
   "metadata": {},
   "outputs": [],
   "source": [
    "def gather(df, code, buy_or_sell='BUY', display_df=True):\n",
    "    \"\"\"\n",
    "    Collate data for a given share code, and given transaction type.\n",
    "\n",
    "    Returns a view of the data for the given code and BUY or SELL.\n",
    "    \"\"\"\n",
    "    c_df = df.loc[df[config.TICKER] == code]\n",
    "    c_df_trade = c_df.loc[c_df['Transaction type'].str.contains(buy_or_sell)].sort_values(config.TRADE_DATE)\n",
    "    if display_df:\n",
    "        display(c_df_trade)\n",
    "    return c_df_trade"
   ]
  },
  {
   "cell_type": "code",
   "execution_count": null,
   "metadata": {},
   "outputs": [],
   "source": [
    "def calculate(df_buy, df_sell, display_df=True):\n",
    "    \"\"\"\n",
    "    Calculate the overall profit (or loss) for a given stock, in order to feed into the CGT calculation.\n",
    "\n",
    "    The buying cost is the cost of the shares, plus any transaction fees for buying.\n",
    "    The sale amount is the amount received for the sale of the shares, minus any costs for selling.\n",
    "\n",
    "    Profit/loss = sale amount - sale fees - (buy amount + buy fees)\n",
    "\n",
    "    If converting to aud, only the total profit/loss realised should be converted\n",
    "\n",
    "    CGT will apply on any overall profit. Overall capital losses can be carried forward for future years.\n",
    "    The CGT discount applies for shares held greater than 12 months - TODO.\n",
    "    \"\"\"\n",
    "    missing = 'MISSING BUY OR SELL'\n",
    "    exchange = 'EXCHANGE FIX REQUIRED'\n",
    "    ok = 'OK'\n",
    "\n",
    "    status = ok\n",
    "\n",
    "    ticker = df_sell[config.TICKER].unique()\n",
    "\n",
    "    buy_n = df_buy[config.QUANTITY].sum(min_count=1)\n",
    "    sell_n = df_sell[config.QUANTITY].sum(min_count=1)\n",
    "\n",
    "    buy_currency = df_buy[config.CURRENCY].unique()\n",
    "    sell_currency = df_sell[config.CURRENCY].unique()\n",
    "\n",
    "    def check_currency(buy_currency, sell_currency):\n",
    "        if len(buy_currency) > 1 or len(sell_currency) > 1 or len(buy_currency) != len(sell_currency) or buy_currency != sell_currency:\n",
    "            print(\"WARNING: Mixed currencies in buy or sell.\")\n",
    "            return False\n",
    "        return True\n",
    "\n",
    "    if pandas.isnull(buy_n):\n",
    "        print(f\"This ticker has no purchase records: {ticker[0]}\")\n",
    "        status = missing\n",
    "    else:\n",
    "        if pandas.isnull(sell_n):\n",
    "            print(f\"This ticker has no sale records: {df_buy['Instrument code'].unique()[0]}\")\n",
    "            status = missing\n",
    "        else:\n",
    "            if not check_currency(buy_currency, sell_currency):\n",
    "                status = exchange\n",
    "\n",
    "\n",
    "    buy_cost = df_buy[AUD_SHARE_TOTAL].sum(min_count=1)\n",
    "    buy_cost_fees = df_buy[AUD_FEE].sum(min_count=1)\n",
    "    sell_return = df_sell[AUD_SHARE_TOTAL].sum(min_count=1)\n",
    "    sell_fees = df_sell[AUD_FEE].sum(min_count=1)\n",
    "\n",
    "    buy_cost_total = buy_cost + buy_cost_fees\n",
    "    sell_return_total = sell_return - sell_fees\n",
    "    if pandas.isnull(sell_return_total):\n",
    "        status = exchange\n",
    "\n",
    "\n",
    "    remaining_shares = round(buy_n - sell_n, 6)\n",
    "\n",
    "    df_summary = pandas.DataFrame(\n",
    "        {\n",
    "            'Buy trades': df_buy.shape[0],\n",
    "            'Sell trades': df_sell.shape[0],\n",
    "            'Buy shares': buy_n,\n",
    "            'Sell shares': sell_n,\n",
    "            'Remaining shares': remaining_shares,\n",
    "            'Buy cost total': buy_cost_total,\n",
    "            'Sell return total': sell_return_total,\n",
    "            'Profit (loss)': sell_return_total - buy_cost_total,\n",
    "            'Currency': sell_currency,\n",
    "            'Ticker': ticker,\n",
    "            'Status': status\n",
    "        }\n",
    "    )\n",
    "\n",
    "    if remaining_shares != 0:\n",
    "        print(\"WARNING: Shares remain, so not useful for CGT\")\n",
    "\n",
    "    if display_df:\n",
    "        display(df_summary)\n",
    "\n",
    "    return df_summary"
   ]
  },
  {
   "cell_type": "markdown",
   "metadata": {},
   "source": [
    "### Perform the calculations"
   ]
  },
  {
   "cell_type": "code",
   "execution_count": null,
   "metadata": {},
   "outputs": [],
   "source": [
    "df_calc = None\n",
    "\n",
    "add_aud_translation(df)\n",
    "\n",
    "for code in df['Instrument code'].sort_values().unique():\n",
    "    df_buy = gather(df, code, 'BUY', display_df=False)\n",
    "    df_sell = gather(df, code, 'SELL', display_df=False)\n",
    "\n",
    "    # list only tickers that had SELL transactions\n",
    "    if df_sell.shape[0] > 0:\n",
    "        print(f\"\\nProcessing {code} which has had SELL transactions...\")\n",
    "        df_all = gather(df,code, '', display_df=False)\n",
    "\n",
    "        df_calculate = calculate(df_buy, df_sell)\n",
    "        if df_calc is None:\n",
    "            df_calc = df_calculate\n",
    "        else:\n",
    "            df_calc = pandas.concat([df_calc, df_calculate])"
   ]
  },
  {
   "cell_type": "code",
   "execution_count": null,
   "metadata": {},
   "outputs": [],
   "source": [
    "df_calc.loc[df_calc['Status'] == 'OK']"
   ]
  },
  {
   "cell_type": "code",
   "execution_count": null,
   "metadata": {},
   "outputs": [],
   "source": [
    "df_calc.loc[df_calc['Status'] != 'OK']"
   ]
  },
  {
   "cell_type": "code",
   "execution_count": null,
   "metadata": {},
   "outputs": [],
   "source": []
  }
 ],
 "metadata": {
  "kernelspec": {
   "display_name": "Python 3",
   "language": "python",
   "name": "python3"
  },
  "language_info": {
   "codemirror_mode": {
    "name": "ipython",
    "version": 3
   },
   "file_extension": ".py",
   "mimetype": "text/x-python",
   "name": "python",
   "nbconvert_exporter": "python",
   "pygments_lexer": "ipython3",
   "version": "3.11.6"
  }
 },
 "nbformat": 4,
 "nbformat_minor": 2
}
